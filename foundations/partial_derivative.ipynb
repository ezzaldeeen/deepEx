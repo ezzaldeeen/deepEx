{
 "cells": [
  {
   "cell_type": "code",
   "execution_count": 12,
   "outputs": [],
   "source": [
    "import numpy as np"
   ],
   "metadata": {
    "collapsed": false,
    "ExecuteTime": {
     "end_time": "2023-07-31T10:39:20.617186Z",
     "start_time": "2023-07-31T10:39:20.606014Z"
    }
   }
  },
  {
   "cell_type": "code",
   "execution_count": 14,
   "outputs": [
    {
     "data": {
      "text/plain": "6"
     },
     "execution_count": 14,
     "metadata": {},
     "output_type": "execute_result"
    }
   ],
   "source": [
    "f = lambda x,w: x*w\n",
    "f(2, 3)"
   ],
   "metadata": {
    "collapsed": false,
    "ExecuteTime": {
     "end_time": "2023-07-31T10:39:57.505862Z",
     "start_time": "2023-07-31T10:39:57.500388Z"
    }
   }
  },
  {
   "cell_type": "code",
   "execution_count": 18,
   "outputs": [
    {
     "data": {
      "text/plain": "3.0000000000001137"
     },
     "execution_count": 18,
     "metadata": {},
     "output_type": "execute_result"
    }
   ],
   "source": [
    "# df/dx = w --> we can imagine that we're using d annotation for partial derivative :)\n",
    "h = 0.001\n",
    "x = 2\n",
    "w = 3\n",
    "(f(x+h, w) - f(x, w)) / h"
   ],
   "metadata": {
    "collapsed": false,
    "ExecuteTime": {
     "end_time": "2023-07-31T10:42:09.833565Z",
     "start_time": "2023-07-31T10:42:09.827974Z"
    }
   }
  },
  {
   "cell_type": "markdown",
   "source": [
    "When we change the 'x' the output of the function going to change by 'w' amount"
   ],
   "metadata": {
    "collapsed": false
   }
  },
  {
   "cell_type": "code",
   "execution_count": 19,
   "outputs": [
    {
     "data": {
      "text/plain": "1.9999999999997797"
     },
     "execution_count": 19,
     "metadata": {},
     "output_type": "execute_result"
    }
   ],
   "source": [
    "h = 0.001\n",
    "x = 2\n",
    "w = 3\n",
    "(f(x, w+h) - f(x, w)) / h"
   ],
   "metadata": {
    "collapsed": false,
    "ExecuteTime": {
     "end_time": "2023-07-31T10:43:31.935968Z",
     "start_time": "2023-07-31T10:43:31.924159Z"
    }
   }
  },
  {
   "cell_type": "markdown",
   "source": [
    "When we change the 'w' the output of the function going to change by 'x' amount"
   ],
   "metadata": {
    "collapsed": false
   }
  },
  {
   "cell_type": "code",
   "execution_count": null,
   "outputs": [],
   "source": [],
   "metadata": {
    "collapsed": false
   }
  }
 ],
 "metadata": {
  "kernelspec": {
   "display_name": "Python 3",
   "language": "python",
   "name": "python3"
  },
  "language_info": {
   "codemirror_mode": {
    "name": "ipython",
    "version": 2
   },
   "file_extension": ".py",
   "mimetype": "text/x-python",
   "name": "python",
   "nbconvert_exporter": "python",
   "pygments_lexer": "ipython2",
   "version": "2.7.6"
  }
 },
 "nbformat": 4,
 "nbformat_minor": 0
}
